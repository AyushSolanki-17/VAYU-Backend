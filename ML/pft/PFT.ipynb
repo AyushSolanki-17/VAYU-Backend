{
 "cells": [
  {
   "cell_type": "code",
   "execution_count": null,
   "id": "18f35275-da67-401c-ae1b-59a9a0512e05",
   "metadata": {},
   "outputs": [],
   "source": [
    "import numpy as np\n",
    "import pandas as pd"
   ]
  },
  {
   "cell_type": "code",
   "execution_count": null,
   "id": "074aac42-83a1-42cd-ab15-db0b5365623e",
   "metadata": {},
   "outputs": [],
   "source": []
  }
 ],
 "metadata": {
  "kernelspec": {
   "display_name": "Python 3 (ipykernel)",
   "language": "python",
   "name": "python3"
  },
  "language_info": {
   "name": ""
  }
 },
 "nbformat": 4,
 "nbformat_minor": 5
}
